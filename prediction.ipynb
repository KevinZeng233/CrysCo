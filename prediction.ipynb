{
 "cells": [
  {
   "cell_type": "code",
   "execution_count": null,
   "id": "0b3fe332",
   "metadata": {},
   "outputs": [],
   "source": [
    "##General imports\n",
    "import csv\n",
    "import os\n",
    "import time\n",
    "from datetime import datetime\n",
    "import shutil\n",
    "import copy\n",
    "import numpy as np\n",
    "from functools import partial\n",
    "import platform\n",
    "\n",
    "##Torch imports\n",
    "import torch.nn.functional as F\n",
    "import torch\n",
    "from torch_geometric.data import DataLoader, Dataset\n",
    "from torch_geometric.nn import DataParallel\n",
    "import torch_geometric.transforms as T\n",
    "from torch.utils.data.distributed import DistributedSampler\n",
    "from torch.nn.parallel import DistributedDataParallel\n",
    "import torch.distributed as dist\n",
    "import torch.multiprocessing as mp\n",
    "from utils_train import evaluate,write_results,model_summary\n",
    "from data import loader_setup,get_dataset,StructureDataset,GetY\n",
    "training_parameters = { \n",
    "    \"target_index\": 0\n",
    "    ,\"loss\": \"mse_loss\"       \n",
    "}\n",
    "job_parameters= { \n",
    "        \"reprocess\":\"False\"\n",
    "        ,\"job_name\": \"my_train_job\"   \n",
    "        ,\"load_model\": \"False\"\n",
    "        ,\"save_model\": \"True\"\n",
    "        ,\"model_path\": \"my_model_shear2.pth\"\n",
    "        ,\"write_output\": \"True\"\n",
    "            ,\"parallel\": \"True\"}\n",
    "cwd = os.getcwd()\n",
    "database= get_dataset(cwd,0)\n",
    "(\n",
    "    train_loader,\n",
    "    val_loader,\n",
    "    test_loader,\n",
    "    train_sampler,\n",
    "    train_dataset,\n",
    "    _,\n",
    "    _,\n",
    ") = loader_setup(\n",
    "    0,\n",
    "    0,\n",
    "    1,\n",
    "    320,\n",
    "    database,\n",
    "    'cuda',\n",
    "    42,\n",
    "    0,\n",
    ")\n",
    "saved_model = torch.load(job_parameters[\"model_path\"], map_location=torch.device(\"cuda\")\n",
    "    )\n",
    "model = saved_model[\"full_model\"]\n",
    "model = model.to(rank)\n",
    "model_summary(model)\n",
    "\n",
    "##Get predictions\n",
    "time_start = time.time()\n",
    "test_error, test_out = evaluate(test_loader, model, training_parameters[\"loss\"], rank, out=True)\n",
    "elapsed_time = time.time() - time_start\n",
    "\n",
    "print(\"Evaluation time (s): {:.5f}\".format(elapsed_time))\n",
    "\n",
    "print(test_error)\n",
    "\n",
    "\n",
    "write_results(\n",
    "        test_out, str(job_parameters[\"job_name\"]) + \"whole_bulk.csv\"\n",
    "    )"
   ]
  },
  {
   "cell_type": "code",
   "execution_count": 2,
   "id": "a8e26cff",
   "metadata": {},
   "outputs": [
    {
     "name": "stdout",
     "output_type": "stream",
     "text": [
      "train length: 9538 val length: 523 test length: 1046 unused length: 2 seed: 42\n"
     ]
    },
    {
     "name": "stderr",
     "output_type": "stream",
     "text": [
      "C:\\Users\\mom19004\\Anaconda3\\envs\\pytorch\\lib\\site-packages\\torch_geometric\\deprecation.py:12: UserWarning: 'data.DataLoader' is deprecated, use 'loader.DataLoader' instead\n",
      "  warnings.warn(out)\n"
     ]
    },
    {
     "ename": "IndexError",
     "evalue": "too many indices for tensor of dimension 1",
     "output_type": "error",
     "traceback": [
      "\u001b[1;31m---------------------------------------------------------------------------\u001b[0m",
      "\u001b[1;31mIndexError\u001b[0m                                Traceback (most recent call last)",
      "File \u001b[1;32m~\\Downloads\\sams\\main.py:210\u001b[0m, in \u001b[0;36m<module>\u001b[1;34m\u001b[0m\n\u001b[0;32m    204\u001b[0m             write_results(\n\u001b[0;32m    205\u001b[0m                 test_out, \u001b[38;5;28mstr\u001b[39m(job_parameters[\u001b[38;5;124m\"\u001b[39m\u001b[38;5;124mjob_name\u001b[39m\u001b[38;5;124m\"\u001b[39m]) \u001b[38;5;241m+\u001b[39m \u001b[38;5;124m\"\u001b[39m\u001b[38;5;124m_test_outputs.csv\u001b[39m\u001b[38;5;124m\"\u001b[39m\n\u001b[0;32m    206\u001b[0m             )\n\u001b[0;32m    209\u001b[0m \u001b[38;5;28;01mif\u001b[39;00m \u001b[38;5;18m__name__\u001b[39m \u001b[38;5;241m==\u001b[39m \u001b[38;5;124m\"\u001b[39m\u001b[38;5;124m__main__\u001b[39m\u001b[38;5;124m\"\u001b[39m:\n\u001b[1;32m--> 210\u001b[0m     \u001b[43mmain\u001b[49m\u001b[43m(\u001b[49m\u001b[43m)\u001b[49m\n",
      "File \u001b[1;32m~\\Downloads\\sams\\main.py:119\u001b[0m, in \u001b[0;36mmain\u001b[1;34m()\u001b[0m\n\u001b[0;32m     99\u001b[0m (\n\u001b[0;32m    100\u001b[0m     train_loader,\n\u001b[0;32m    101\u001b[0m     val_loader,\n\u001b[1;32m   (...)\u001b[0m\n\u001b[0;32m    115\u001b[0m     \u001b[38;5;241m0\u001b[39m,\n\u001b[0;32m    116\u001b[0m )\n\u001b[0;32m    118\u001b[0m \u001b[38;5;66;03m# Setup the model\u001b[39;00m\n\u001b[1;32m--> 119\u001b[0m model \u001b[38;5;241m=\u001b[39m \u001b[43mmodel_setup\u001b[49m\u001b[43m(\u001b[49m\n\u001b[0;32m    120\u001b[0m \u001b[43m    \u001b[49m\u001b[38;5;124;43m'\u001b[39;49m\u001b[38;5;124;43mcuda\u001b[39;49m\u001b[38;5;124;43m'\u001b[39;49m\u001b[43m,\u001b[49m\n\u001b[0;32m    121\u001b[0m \u001b[43m    \u001b[49m\u001b[38;5;124;43m'\u001b[39;49m\u001b[38;5;124;43mCrysCo\u001b[39;49m\u001b[38;5;124;43m'\u001b[39;49m\u001b[43m,\u001b[49m\n\u001b[0;32m    122\u001b[0m \u001b[43m    \u001b[49m\u001b[43mmodel_parameters\u001b[49m\u001b[43m,\u001b[49m\n\u001b[0;32m    123\u001b[0m \u001b[43m    \u001b[49m\u001b[43mdatabase\u001b[49m\u001b[43m,\u001b[49m\n\u001b[0;32m    124\u001b[0m \u001b[43m\u001b[49m\u001b[43m)\u001b[49m\n\u001b[0;32m    126\u001b[0m optimizer \u001b[38;5;241m=\u001b[39m \u001b[38;5;28mgetattr\u001b[39m(torch\u001b[38;5;241m.\u001b[39moptim, model_parameters[\u001b[38;5;124m\"\u001b[39m\u001b[38;5;124moptimizer\u001b[39m\u001b[38;5;124m\"\u001b[39m])(\n\u001b[0;32m    127\u001b[0m     model\u001b[38;5;241m.\u001b[39mparameters(),\n\u001b[0;32m    128\u001b[0m     lr\u001b[38;5;241m=\u001b[39mmodel_parameters[\u001b[38;5;124m\"\u001b[39m\u001b[38;5;124mlr\u001b[39m\u001b[38;5;124m\"\u001b[39m],\n\u001b[0;32m    129\u001b[0m     \u001b[38;5;241m*\u001b[39m\u001b[38;5;241m*\u001b[39mmodel_parameters[\u001b[38;5;124m\"\u001b[39m\u001b[38;5;124moptimizer_args\u001b[39m\u001b[38;5;124m\"\u001b[39m]\n\u001b[0;32m    130\u001b[0m )\n\u001b[0;32m    131\u001b[0m scheduler \u001b[38;5;241m=\u001b[39m \u001b[38;5;28mgetattr\u001b[39m(torch\u001b[38;5;241m.\u001b[39moptim\u001b[38;5;241m.\u001b[39mlr_scheduler, model_parameters[\u001b[38;5;124m\"\u001b[39m\u001b[38;5;124mscheduler\u001b[39m\u001b[38;5;124m\"\u001b[39m])(\n\u001b[0;32m    132\u001b[0m     optimizer, \u001b[38;5;241m*\u001b[39m\u001b[38;5;241m*\u001b[39mmodel_parameters[\u001b[38;5;124m\"\u001b[39m\u001b[38;5;124mscheduler_args\u001b[39m\u001b[38;5;124m\"\u001b[39m]\n\u001b[0;32m    133\u001b[0m )\n",
      "File \u001b[1;32m~\\Downloads\\sams\\utils_train.py:172\u001b[0m, in \u001b[0;36mmodel_setup\u001b[1;34m(rank, model_name, model_params, dataset, load_model, model_path, print_model)\u001b[0m\n\u001b[0;32m    163\u001b[0m \u001b[38;5;28;01mdef\u001b[39;00m \u001b[38;5;21mmodel_setup\u001b[39m(\n\u001b[0;32m    164\u001b[0m     rank,\n\u001b[0;32m    165\u001b[0m     model_name,\n\u001b[1;32m   (...)\u001b[0m\n\u001b[0;32m    170\u001b[0m     print_model\u001b[38;5;241m=\u001b[39m\u001b[38;5;28;01mTrue\u001b[39;00m,\n\u001b[0;32m    171\u001b[0m ):\n\u001b[1;32m--> 172\u001b[0m     model \u001b[38;5;241m=\u001b[39m CrysCo(\n\u001b[0;32m    173\u001b[0m         data\u001b[38;5;241m=\u001b[39mdataset, \u001b[38;5;241m*\u001b[39m\u001b[38;5;241m*\u001b[39m(model_params \u001b[38;5;28;01mif\u001b[39;00m model_params \u001b[38;5;129;01mis\u001b[39;00m \u001b[38;5;129;01mnot\u001b[39;00m \u001b[38;5;28;01mNone\u001b[39;00m \u001b[38;5;28;01melse\u001b[39;00m {})\n\u001b[0;32m    174\u001b[0m     )\u001b[38;5;241m.\u001b[39mto(rank)\n\u001b[0;32m    175\u001b[0m     \u001b[38;5;28;01mif\u001b[39;00m load_model \u001b[38;5;241m==\u001b[39m \u001b[38;5;124m\"\u001b[39m\u001b[38;5;124mTrue\u001b[39m\u001b[38;5;124m\"\u001b[39m:\n\u001b[0;32m    176\u001b[0m         \u001b[38;5;28;01massert\u001b[39;00m os\u001b[38;5;241m.\u001b[39mpath\u001b[38;5;241m.\u001b[39mexists(model_path), \u001b[38;5;124m\"\u001b[39m\u001b[38;5;124mSaved model not found\u001b[39m\u001b[38;5;124m\"\u001b[39m\n",
      "File \u001b[1;32m~\\Downloads\\sams\\CrysCo.py:84\u001b[0m, in \u001b[0;36mCrysCo.__init__\u001b[1;34m(self, data, out_dims, d_model, N, heads, compute_device, dim1, dim2, numb_embbeding, numb_EGAT, numb_GATGCN, pool, pool_order, act, batch_norm, dropout_rate, **kwargs)\u001b[0m\n\u001b[0;32m     82\u001b[0m \u001b[38;5;28mself\u001b[39m\u001b[38;5;241m.\u001b[39mencoder \u001b[38;5;241m=\u001b[39m Transformer(d_model\u001b[38;5;241m=\u001b[39m\u001b[38;5;28mself\u001b[39m\u001b[38;5;241m.\u001b[39md_model,N\u001b[38;5;241m=\u001b[39m\u001b[38;5;28mself\u001b[39m\u001b[38;5;241m.\u001b[39mN,heads\u001b[38;5;241m=\u001b[39m\u001b[38;5;28mself\u001b[39m\u001b[38;5;241m.\u001b[39mheads)\n\u001b[0;32m     83\u001b[0m \u001b[38;5;28mself\u001b[39m\u001b[38;5;241m.\u001b[39mresnet \u001b[38;5;241m=\u001b[39m ResidualNN(\u001b[38;5;28mself\u001b[39m\u001b[38;5;241m.\u001b[39md_model, \u001b[38;5;28mself\u001b[39m\u001b[38;5;241m.\u001b[39mout_dims, \u001b[38;5;28mself\u001b[39m\u001b[38;5;241m.\u001b[39mout_hidden)\n\u001b[1;32m---> 84\u001b[0m output_dim \u001b[38;5;241m=\u001b[39m \u001b[38;5;241m1\u001b[39m \u001b[38;5;28;01mif\u001b[39;00m \u001b[43mdata\u001b[49m\u001b[43m[\u001b[49m\u001b[38;5;241;43m0\u001b[39;49m\u001b[43m]\u001b[49m\u001b[38;5;241m.\u001b[39my\u001b[38;5;241m.\u001b[39mndim \u001b[38;5;241m==\u001b[39m \u001b[38;5;241m0\u001b[39m \u001b[38;5;28;01melse\u001b[39;00m \u001b[38;5;28mlen\u001b[39m(data[\u001b[38;5;241m0\u001b[39m]\u001b[38;5;241m.\u001b[39my)\n\u001b[0;32m     85\u001b[0m \u001b[38;5;28mself\u001b[39m\u001b[38;5;241m.\u001b[39mpre_lin_list_E \u001b[38;5;241m=\u001b[39m torch\u001b[38;5;241m.\u001b[39mnn\u001b[38;5;241m.\u001b[39mModuleList()  \n\u001b[0;32m     86\u001b[0m \u001b[38;5;28mself\u001b[39m\u001b[38;5;241m.\u001b[39mpre_lin_list_N \u001b[38;5;241m=\u001b[39m torch\u001b[38;5;241m.\u001b[39mnn\u001b[38;5;241m.\u001b[39mModuleList()  \n",
      "File \u001b[1;32m~\\Anaconda3\\envs\\pytorch\\lib\\site-packages\\torch_geometric\\data\\dataset.py:198\u001b[0m, in \u001b[0;36mDataset.__getitem__\u001b[1;34m(self, idx)\u001b[0m\n\u001b[0;32m    193\u001b[0m \u001b[38;5;28;01mif\u001b[39;00m (\u001b[38;5;28misinstance\u001b[39m(idx, (\u001b[38;5;28mint\u001b[39m, np\u001b[38;5;241m.\u001b[39minteger))\n\u001b[0;32m    194\u001b[0m         \u001b[38;5;129;01mor\u001b[39;00m (\u001b[38;5;28misinstance\u001b[39m(idx, Tensor) \u001b[38;5;129;01mand\u001b[39;00m idx\u001b[38;5;241m.\u001b[39mdim() \u001b[38;5;241m==\u001b[39m \u001b[38;5;241m0\u001b[39m)\n\u001b[0;32m    195\u001b[0m         \u001b[38;5;129;01mor\u001b[39;00m (\u001b[38;5;28misinstance\u001b[39m(idx, np\u001b[38;5;241m.\u001b[39mndarray) \u001b[38;5;129;01mand\u001b[39;00m np\u001b[38;5;241m.\u001b[39misscalar(idx))):\n\u001b[0;32m    197\u001b[0m     data \u001b[38;5;241m=\u001b[39m \u001b[38;5;28mself\u001b[39m\u001b[38;5;241m.\u001b[39mget(\u001b[38;5;28mself\u001b[39m\u001b[38;5;241m.\u001b[39mindices()[idx])\n\u001b[1;32m--> 198\u001b[0m     data \u001b[38;5;241m=\u001b[39m data \u001b[38;5;28;01mif\u001b[39;00m \u001b[38;5;28mself\u001b[39m\u001b[38;5;241m.\u001b[39mtransform \u001b[38;5;129;01mis\u001b[39;00m \u001b[38;5;28;01mNone\u001b[39;00m \u001b[38;5;28;01melse\u001b[39;00m \u001b[38;5;28;43mself\u001b[39;49m\u001b[38;5;241;43m.\u001b[39;49m\u001b[43mtransform\u001b[49m\u001b[43m(\u001b[49m\u001b[43mdata\u001b[49m\u001b[43m)\u001b[49m\n\u001b[0;32m    199\u001b[0m     \u001b[38;5;28;01mreturn\u001b[39;00m data\n\u001b[0;32m    201\u001b[0m \u001b[38;5;28;01melse\u001b[39;00m:\n",
      "File \u001b[1;32m~\\Downloads\\sams\\data.py:209\u001b[0m, in \u001b[0;36mGetY.__call__\u001b[1;34m(self, data)\u001b[0m\n\u001b[0;32m    206\u001b[0m \u001b[38;5;28;01mdef\u001b[39;00m \u001b[38;5;21m__call__\u001b[39m(\u001b[38;5;28mself\u001b[39m, data):\n\u001b[0;32m    207\u001b[0m     \u001b[38;5;66;03m# Specify target.\u001b[39;00m\n\u001b[0;32m    208\u001b[0m     \u001b[38;5;28;01mif\u001b[39;00m \u001b[38;5;28mself\u001b[39m\u001b[38;5;241m.\u001b[39mindex \u001b[38;5;241m!=\u001b[39m \u001b[38;5;241m-\u001b[39m\u001b[38;5;241m1\u001b[39m:\n\u001b[1;32m--> 209\u001b[0m         data\u001b[38;5;241m.\u001b[39mY \u001b[38;5;241m=\u001b[39m \u001b[43mdata\u001b[49m\u001b[38;5;241;43m.\u001b[39;49m\u001b[43mY\u001b[49m\u001b[43m[\u001b[49m\u001b[38;5;28;43mself\u001b[39;49m\u001b[38;5;241;43m.\u001b[39;49m\u001b[43mindex\u001b[49m\u001b[43m]\u001b[49m\n\u001b[0;32m    210\u001b[0m     \u001b[38;5;28;01mreturn\u001b[39;00m data\n",
      "\u001b[1;31mIndexError\u001b[0m: too many indices for tensor of dimension 1"
     ]
    }
   ],
   "source": [
    "%run C:/Users/mom19004/Downloads/sams/main.py --data_dir \"C:/Users/mom19004/Downloads/sams/\" --data \"M.pt\""
   ]
  },
  {
   "cell_type": "code",
   "execution_count": null,
   "id": "b4d2c702",
   "metadata": {},
   "outputs": [],
   "source": []
  }
 ],
 "metadata": {
  "kernelspec": {
   "display_name": "Python 3 (ipykernel)",
   "language": "python",
   "name": "python3"
  },
  "language_info": {
   "codemirror_mode": {
    "name": "ipython",
    "version": 3
   },
   "file_extension": ".py",
   "mimetype": "text/x-python",
   "name": "python",
   "nbconvert_exporter": "python",
   "pygments_lexer": "ipython3",
   "version": "3.9.12"
  }
 },
 "nbformat": 4,
 "nbformat_minor": 5
}
