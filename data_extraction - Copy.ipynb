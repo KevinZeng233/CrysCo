{
 "cells": [
  {
   "cell_type": "code",
   "execution_count": 20,
   "id": "c348f158",
   "metadata": {},
   "outputs": [
    {
     "ename": "AttributeError",
     "evalue": "partially initialized module 'charset_normalizer' has no attribute 'md__mypyc' (most likely due to a circular import)",
     "output_type": "error",
     "traceback": [
      "\u001b[1;31m---------------------------------------------------------------------------\u001b[0m",
      "\u001b[1;31mAttributeError\u001b[0m                            Traceback (most recent call last)",
      "Cell \u001b[1;32mIn[20], line 1\u001b[0m\n\u001b[1;32m----> 1\u001b[0m \u001b[38;5;28;01mfrom\u001b[39;00m \u001b[38;5;21;01mpymatgen\u001b[39;00m\u001b[38;5;21;01m.\u001b[39;00m\u001b[38;5;21;01mext\u001b[39;00m\u001b[38;5;21;01m.\u001b[39;00m\u001b[38;5;21;01mmatproj\u001b[39;00m \u001b[38;5;28;01mimport\u001b[39;00m MPRester\n\u001b[0;32m      3\u001b[0m \u001b[38;5;28;01mfrom\u001b[39;00m \u001b[38;5;21;01mpymatgen\u001b[39;00m\u001b[38;5;21;01m.\u001b[39;00m\u001b[38;5;21;01mio\u001b[39;00m\u001b[38;5;21;01m.\u001b[39;00m\u001b[38;5;21;01mcif\u001b[39;00m \u001b[38;5;28;01mimport\u001b[39;00m CifWriter\n\u001b[0;32m      4\u001b[0m \u001b[38;5;28;01mimport\u001b[39;00m \u001b[38;5;21;01mcsv\u001b[39;00m\n",
      "File \u001b[1;32m~\\anaconda3\\envs\\torch\\Lib\\site-packages\\pymatgen\\ext\\matproj.py:26\u001b[0m\n\u001b[0;32m     23\u001b[0m \u001b[38;5;28;01mfrom\u001b[39;00m \u001b[38;5;21;01mtime\u001b[39;00m \u001b[38;5;28;01mimport\u001b[39;00m sleep\n\u001b[0;32m     24\u001b[0m \u001b[38;5;28;01mfrom\u001b[39;00m \u001b[38;5;21;01mtyping\u001b[39;00m \u001b[38;5;28;01mimport\u001b[39;00m TYPE_CHECKING, Any, Literal, Sequence\n\u001b[1;32m---> 26\u001b[0m \u001b[38;5;28;01mimport\u001b[39;00m \u001b[38;5;21;01mrequests\u001b[39;00m\n\u001b[0;32m     27\u001b[0m \u001b[38;5;28;01mfrom\u001b[39;00m \u001b[38;5;21;01mmonty\u001b[39;00m\u001b[38;5;21;01m.\u001b[39;00m\u001b[38;5;21;01mjson\u001b[39;00m \u001b[38;5;28;01mimport\u001b[39;00m MontyDecoder, MontyEncoder\n\u001b[0;32m     28\u001b[0m \u001b[38;5;28;01mfrom\u001b[39;00m \u001b[38;5;21;01mmp_api\u001b[39;00m\u001b[38;5;21;01m.\u001b[39;00m\u001b[38;5;21;01mclient\u001b[39;00m \u001b[38;5;28;01mimport\u001b[39;00m MPRester \u001b[38;5;28;01mas\u001b[39;00m _MPResterNew\n",
      "File \u001b[1;32m~\\anaconda3\\envs\\torch\\Lib\\site-packages\\requests\\__init__.py:48\u001b[0m\n\u001b[0;32m     45\u001b[0m \u001b[38;5;28;01mfrom\u001b[39;00m \u001b[38;5;21;01m.\u001b[39;00m\u001b[38;5;21;01mexceptions\u001b[39;00m \u001b[38;5;28;01mimport\u001b[39;00m RequestsDependencyWarning\n\u001b[0;32m     47\u001b[0m \u001b[38;5;28;01mtry\u001b[39;00m:\n\u001b[1;32m---> 48\u001b[0m     \u001b[38;5;28;01mfrom\u001b[39;00m \u001b[38;5;21;01mcharset_normalizer\u001b[39;00m \u001b[38;5;28;01mimport\u001b[39;00m __version__ \u001b[38;5;28;01mas\u001b[39;00m charset_normalizer_version\n\u001b[0;32m     49\u001b[0m \u001b[38;5;28;01mexcept\u001b[39;00m \u001b[38;5;167;01mImportError\u001b[39;00m:\n\u001b[0;32m     50\u001b[0m     charset_normalizer_version \u001b[38;5;241m=\u001b[39m \u001b[38;5;28;01mNone\u001b[39;00m\n",
      "File \u001b[1;32m~\\anaconda3\\envs\\torch\\Lib\\site-packages\\charset_normalizer\\__init__.py:23\u001b[0m\n\u001b[0;32m      1\u001b[0m \u001b[38;5;124;03m\"\"\"\u001b[39;00m\n\u001b[0;32m      2\u001b[0m \u001b[38;5;124;03mCharset-Normalizer\u001b[39;00m\n\u001b[0;32m      3\u001b[0m \u001b[38;5;124;03m~~~~~~~~~~~~~~\u001b[39;00m\n\u001b[1;32m   (...)\u001b[0m\n\u001b[0;32m     21\u001b[0m \u001b[38;5;124;03m:license: MIT, see LICENSE for more details.\u001b[39;00m\n\u001b[0;32m     22\u001b[0m \u001b[38;5;124;03m\"\"\"\u001b[39;00m\n\u001b[1;32m---> 23\u001b[0m \u001b[38;5;28;01mfrom\u001b[39;00m \u001b[38;5;21;01mcharset_normalizer\u001b[39;00m\u001b[38;5;21;01m.\u001b[39;00m\u001b[38;5;21;01mapi\u001b[39;00m \u001b[38;5;28;01mimport\u001b[39;00m from_fp, from_path, from_bytes, normalize\n\u001b[0;32m     24\u001b[0m \u001b[38;5;28;01mfrom\u001b[39;00m \u001b[38;5;21;01mcharset_normalizer\u001b[39;00m\u001b[38;5;21;01m.\u001b[39;00m\u001b[38;5;21;01mlegacy\u001b[39;00m \u001b[38;5;28;01mimport\u001b[39;00m detect\n\u001b[0;32m     25\u001b[0m \u001b[38;5;28;01mfrom\u001b[39;00m \u001b[38;5;21;01mcharset_normalizer\u001b[39;00m\u001b[38;5;21;01m.\u001b[39;00m\u001b[38;5;21;01mversion\u001b[39;00m \u001b[38;5;28;01mimport\u001b[39;00m __version__, VERSION\n",
      "File \u001b[1;32m~\\anaconda3\\envs\\torch\\Lib\\site-packages\\charset_normalizer\\api.py:10\u001b[0m\n\u001b[0;32m      7\u001b[0m     PathLike \u001b[38;5;241m=\u001b[39m Union[\u001b[38;5;28mstr\u001b[39m, \u001b[38;5;124m'\u001b[39m\u001b[38;5;124mos.PathLike[str]\u001b[39m\u001b[38;5;124m'\u001b[39m]  \u001b[38;5;66;03m# type: ignore\u001b[39;00m\n\u001b[0;32m      9\u001b[0m \u001b[38;5;28;01mfrom\u001b[39;00m \u001b[38;5;21;01mcharset_normalizer\u001b[39;00m\u001b[38;5;21;01m.\u001b[39;00m\u001b[38;5;21;01mconstant\u001b[39;00m \u001b[38;5;28;01mimport\u001b[39;00m TOO_SMALL_SEQUENCE, TOO_BIG_SEQUENCE, IANA_SUPPORTED\n\u001b[1;32m---> 10\u001b[0m \u001b[38;5;28;01mfrom\u001b[39;00m \u001b[38;5;21;01mcharset_normalizer\u001b[39;00m\u001b[38;5;21;01m.\u001b[39;00m\u001b[38;5;21;01mmd\u001b[39;00m \u001b[38;5;28;01mimport\u001b[39;00m mess_ratio\n\u001b[0;32m     11\u001b[0m \u001b[38;5;28;01mfrom\u001b[39;00m \u001b[38;5;21;01mcharset_normalizer\u001b[39;00m\u001b[38;5;21;01m.\u001b[39;00m\u001b[38;5;21;01mmodels\u001b[39;00m \u001b[38;5;28;01mimport\u001b[39;00m CharsetMatches, CharsetMatch\n\u001b[0;32m     12\u001b[0m \u001b[38;5;28;01mfrom\u001b[39;00m \u001b[38;5;21;01mwarnings\u001b[39;00m \u001b[38;5;28;01mimport\u001b[39;00m warn\n",
      "\u001b[1;31mAttributeError\u001b[0m: partially initialized module 'charset_normalizer' has no attribute 'md__mypyc' (most likely due to a circular import)"
     ]
    }
   ],
   "source": [
    "from pymatgen.ext.matproj import MPRester\n",
    "\n",
    "from pymatgen.io.cif import CifWriter\n",
    "import csv\n",
    "import sys\n",
    "import os\n",
    "\n",
    "API_KEY='f8lrZkNzIhxvuK21'\n",
    "mpr = MPRester(API_KEY)\n"
   ]
  },
  {
   "cell_type": "code",
   "execution_count": 19,
   "id": "e6a6c0bc",
   "metadata": {},
   "outputs": [
    {
     "name": "stdout",
     "output_type": "stream",
     "text": [
      "^C\n"
     ]
    }
   ],
   "source": [
    "!pip install charset_normalizer\n",
    "\n",
    "\n"
   ]
  },
  {
   "cell_type": "code",
   "execution_count": 17,
   "id": "c32a21a2",
   "metadata": {},
   "outputs": [
    {
     "ename": "TypeError",
     "evalue": "query() got an unexpected keyword argument 'limit'",
     "output_type": "error",
     "traceback": [
      "\u001b[1;31m---------------------------------------------------------------------------\u001b[0m",
      "\u001b[1;31mTypeError\u001b[0m                                 Traceback (most recent call last)",
      "Input \u001b[1;32mIn [17]\u001b[0m, in \u001b[0;36m<cell line: 1>\u001b[1;34m()\u001b[0m\n\u001b[0;32m      1\u001b[0m \u001b[38;5;28;01mfor\u001b[39;00m skip \u001b[38;5;129;01min\u001b[39;00m \u001b[38;5;28mrange\u001b[39m(\u001b[38;5;241m0\u001b[39m, \u001b[38;5;241m126333\u001b[39m, max_results_per_query):\n\u001b[0;32m      2\u001b[0m     \u001b[38;5;66;03m# Query for materials in current batch\u001b[39;00m\n\u001b[1;32m----> 3\u001b[0m     materials_data \u001b[38;5;241m=\u001b[39m \u001b[43mmpr\u001b[49m\u001b[38;5;241;43m.\u001b[39;49m\u001b[43mquery\u001b[49m\u001b[43m(\u001b[49m\u001b[43mcriteria\u001b[49m\u001b[38;5;241;43m=\u001b[39;49m\u001b[43m{\u001b[49m\u001b[43m}\u001b[49m\u001b[43m,\u001b[49m\u001b[43m \u001b[49m\u001b[43mproperties\u001b[49m\u001b[38;5;241;43m=\u001b[39;49m\u001b[43m[\u001b[49m\u001b[38;5;124;43m\"\u001b[39;49m\u001b[38;5;124;43mtask_id\u001b[39;49m\u001b[38;5;124;43m\"\u001b[39;49m\u001b[43m,\u001b[49m\u001b[43m \u001b[49m\u001b[38;5;124;43m\"\u001b[39;49m\u001b[38;5;124;43mfinal_structure\u001b[39;49m\u001b[38;5;124;43m\"\u001b[39;49m\u001b[43m]\u001b[49m\u001b[43m,\u001b[49m\u001b[43mlimit\u001b[49m\u001b[38;5;241;43m=\u001b[39;49m\u001b[43mmax_results_per_query\u001b[49m\u001b[43m)\u001b[49m\n\u001b[0;32m      5\u001b[0m     \u001b[38;5;66;03m# Download structure for each material in current batch\u001b[39;00m\n\u001b[0;32m      6\u001b[0m     \u001b[38;5;28;01mfor\u001b[39;00m material_data \u001b[38;5;129;01min\u001b[39;00m materials_data:\n",
      "\u001b[1;31mTypeError\u001b[0m: query() got an unexpected keyword argument 'limit'"
     ]
    }
   ],
   "source": [
    "for skip in range(0, 126333, max_results_per_query):\n",
    "    # Query for materials in current batch\n",
    "    materials_data = mpr.query(criteria={}, properties=[\"task_id\", \"final_structure\"],limit=max_results_per_query)\n",
    "\n",
    "    # Download structure for each material in current batch\n",
    "    for material_data in materials_data:\n",
    "        task_id = material_data[\"task_id\"]\n",
    "        structure = material_data[\"final_structure\"]\n",
    "\n",
    "        # Save structure to file in materials_data directory\n",
    "        filename = os.path.join(\"materials_data\", f\"{task_id}.cif\")\n",
    "        structure.to(filename=filename)"
   ]
  },
  {
   "cell_type": "code",
   "execution_count": 26,
   "id": "260d98a5",
   "metadata": {},
   "outputs": [
    {
     "data": {
      "text/plain": [
       "'C:\\\\Users\\\\moham\\\\Downloads\\\\sams'"
      ]
     },
     "execution_count": 26,
     "metadata": {},
     "output_type": "execute_result"
    }
   ],
   "source": [
    "os.getcwd()"
   ]
  },
  {
   "cell_type": "code",
   "execution_count": 2,
   "id": "cbb7f4d9",
   "metadata": {},
   "outputs": [
    {
     "name": "stderr",
     "output_type": "stream",
     "text": [
      "100%|█████████████████████████████████████████████████████████████████████████| 126335/126335 [02:16<00:00, 925.72it/s]\n"
     ]
    }
   ],
   "source": [
    "\n",
    "out_temp=mpr.query(criteria={}, properties=['task_id', 'pretty_formula'], max_tries_per_chunk=10, chunk_size=500)\n",
    "\n"
   ]
  },
  {
   "cell_type": "code",
   "execution_count": 25,
   "id": "271d045e",
   "metadata": {},
   "outputs": [],
   "source": [
    "os.makedirs(\"material_data\", exist_ok=True)\n",
    "for material_data in out_temp:\n",
    "    task_id = material_data[\"task_id\"]\n",
    "    formula = material_data[\"pretty_formula\"]\n",
    "\n",
    "    # Save structure to file in materials_data directory\n",
    "    filename = os.path.join(\"material_data\", f\"{task_id}.cif\")\n",
    "    structure.to(filename=filename)"
   ]
  },
  {
   "cell_type": "code",
   "execution_count": 4,
   "id": "8662fbf8",
   "metadata": {},
   "outputs": [],
   "source": [
    "import pandas as pd\n",
    "\n",
    "# create a list of dictionaries with task_id and pretty_formula\n",
    "data = [{\"task_id\": material_data[\"task_id\"], \"pretty_formula\": material_data[\"pretty_formula\"]} for material_data in out_temp]\n",
    "\n",
    "# create a DataFrame from the list of dictionaries\n",
    "df = pd.DataFrame(data)\n",
    "\n",
    "# write the DataFrame to a CSV file\n",
    "df.to_csv(\"task_id_and_formula.csv\", index=False)"
   ]
  },
  {
   "cell_type": "code",
   "execution_count": 3,
   "id": "f7c6c817",
   "metadata": {},
   "outputs": [
    {
     "ename": "NameError",
     "evalue": "name 'out_tempt' is not defined",
     "output_type": "error",
     "traceback": [
      "\u001b[1;31m---------------------------------------------------------------------------\u001b[0m",
      "\u001b[1;31mNameError\u001b[0m                                 Traceback (most recent call last)",
      "Input \u001b[1;32mIn [3]\u001b[0m, in \u001b[0;36m<cell line: 4>\u001b[1;34m()\u001b[0m\n\u001b[0;32m      1\u001b[0m \u001b[38;5;28;01mimport\u001b[39;00m \u001b[38;5;21;01mpandas\u001b[39;00m \u001b[38;5;28;01mas\u001b[39;00m \u001b[38;5;21;01mpd\u001b[39;00m\n\u001b[0;32m      3\u001b[0m \u001b[38;5;66;03m# Load downloaded data into a dataframe\u001b[39;00m\n\u001b[1;32m----> 4\u001b[0m df \u001b[38;5;241m=\u001b[39m pd\u001b[38;5;241m.\u001b[39mDataFrame(\u001b[43mout_tempt\u001b[49m, columns\u001b[38;5;241m=\u001b[39m[\u001b[38;5;124m'\u001b[39m\u001b[38;5;124mtask_id\u001b[39m\u001b[38;5;124m'\u001b[39m, \u001b[38;5;124m'\u001b[39m\u001b[38;5;124mpretty_formula\u001b[39m\u001b[38;5;124m'\u001b[39m])\n\u001b[0;32m      6\u001b[0m \u001b[38;5;66;03m# Select only task_id and pretty_formula columns\u001b[39;00m\n\u001b[0;32m      7\u001b[0m df \u001b[38;5;241m=\u001b[39m df[[\u001b[38;5;124m'\u001b[39m\u001b[38;5;124mtask_id\u001b[39m\u001b[38;5;124m'\u001b[39m, \u001b[38;5;124m'\u001b[39m\u001b[38;5;124mpretty_formula\u001b[39m\u001b[38;5;124m'\u001b[39m]]\n",
      "\u001b[1;31mNameError\u001b[0m: name 'out_tempt' is not defined"
     ]
    }
   ],
   "source": [
    "import pandas as pd\n",
    "\n",
    "# Load downloaded data into a dataframe\n",
    "df = pd.DataFrame(out_tempt, columns=['task_id', 'pretty_formula'])\n",
    "\n",
    "# Select only task_id and pretty_formula columns\n",
    "df = df[['task_id', 'pretty_formula']]\n",
    "\n",
    "# Save to a CSV file\n",
    "df.to_csv('task_id_and_formula.csv', index=False)"
   ]
  },
  {
   "cell_type": "code",
   "execution_count": null,
   "id": "772a305e",
   "metadata": {},
   "outputs": [
    {
     "name": "stderr",
     "output_type": "stream",
     "text": [
      "C:\\Users\\moham\\anaconda3\\envs\\pytorch\\lib\\site-packages\\pymatgen\\core\\periodic_table.py:210: UserWarning: No electronegativity for He. Setting to NaN. This has no physical meaning, and is mainly done to avoid errors caused by the code expecting a float.\n",
      "  warnings.warn(\n"
     ]
    }
   ],
   "source": [
    "import pandas as pd\n",
    "df = pd.read_csv(\"file_list.csv\")\n",
    "\n",
    "# Define a function to get the pretty formula for each task ID\n",
    "def get_formula(task_id):\n",
    "    try:\n",
    "        structure = mpr.get_structure_by_material_id(task_id)\n",
    "        formula = structure.composition.reduced_formula\n",
    "        return formula\n",
    "    except:\n",
    "        return \"\"\n",
    "\n",
    "# Apply the get_formula function to create a new column in your DataFrame\n",
    "df[\"formula\"] = df[\"task_id\"].apply(get_formula)\n",
    "\n",
    "# Save the updated DataFrame to a new CSV file\n",
    "df.to_csv(\"your_new_file.csv\", index=False)"
   ]
  },
  {
   "cell_type": "code",
   "execution_count": 21,
   "id": "d71e49fd",
   "metadata": {},
   "outputs": [
    {
     "name": "stderr",
     "output_type": "stream",
     "text": [
      "ERROR: Could not find a version that satisfies the requirement zipfile (from versions: none)\n",
      "ERROR: No matching distribution found for zipfile\n"
     ]
    }
   ],
   "source": [
    "!pip install zipfile"
   ]
  },
  {
   "cell_type": "code",
   "execution_count": 3,
   "id": "934db39a",
   "metadata": {},
   "outputs": [],
   "source": [
    "for i in range(len(out_temp)):\n",
    "    write_cif=CifWriter(out_temp[i]['final_structure'])\n",
    "    write_cif.write_file('Li_cont/'+str(i)+'.cif')"
   ]
  },
  {
   "cell_type": "code",
   "execution_count": 5,
   "id": "6b72538b",
   "metadata": {},
   "outputs": [],
   "source": [
    "import os\n",
    "import csv\n",
    "\n",
    "folder_path = \"C:\\\\Users\\\\moham\\\\Downloads\\\\sams\\\\material_data\"\n",
    "\n",
    "# Get a list of all PNG files in the folder\n",
    "png_files = [f for f in os.listdir(folder_path) if f.endswith(\".cif\")]\n",
    "\n",
    "# Write the list of PNG files to a CSV file\n",
    "with open(\"tr.csv\", \"w\", newline=\"\") as csv_file:\n",
    "    writer = csv.writer(csv_file)\n",
    "    writer.writerow([\"formula\"])\n",
    "    for png_file in png_files:\n",
    "        writer.writerow([os.path.splitext(png_file)[0]])"
   ]
  },
  {
   "cell_type": "code",
   "execution_count": 14,
   "id": "4ce22589",
   "metadata": {},
   "outputs": [
    {
     "data": {
      "text/plain": [
       "{'final_structure': Structure Summary\n",
       " Lattice\n",
       "     abc : 3.0775387888522214 3.0775387888522214 4.922947\n",
       "  angles : 90.0 90.0 120.00001695836976\n",
       "  volume : 40.379672154172624\n",
       "       A : 1.538769 -2.665227 0.0\n",
       "       B : 1.538769 2.665227 0.0\n",
       "       C : 0.0 0.0 4.922947\n",
       " PeriodicSite: Li (1.5388, 0.8884, 1.2307) [0.3333, 0.6667, 0.2500]\n",
       " PeriodicSite: Li (1.5388, -0.8884, 3.6922) [0.6667, 0.3333, 0.7500],\n",
       " 'pretty_formula': 'Li'}"
      ]
     },
     "execution_count": 14,
     "metadata": {},
     "output_type": "execute_result"
    }
   ],
   "source": [
    "out_temp[0]"
   ]
  },
  {
   "cell_type": "code",
   "execution_count": 52,
   "id": "d8cf9d5c",
   "metadata": {},
   "outputs": [
    {
     "data": {
      "text/plain": [
       "{'final_structure': Structure Summary\n",
       " Lattice\n",
       "     abc : 6.098748 14.741699 14.855998\n",
       "  angles : 90.0 90.0 90.0\n",
       "  volume : 1335.6419789307945\n",
       "       A : 6.098748 0.0 0.0\n",
       "       B : 0.0 14.741699 0.0\n",
       "       C : 0.0 0.0 14.855998\n",
       " PeriodicSite: Ba (0.0000, 14.7144, 1.3387) [0.0000, 0.9981, 0.0901]\n",
       " PeriodicSite: Ba (0.0000, 13.5903, 8.5275) [0.0000, 0.9219, 0.5740]\n",
       " PeriodicSite: Ba (3.0494, 12.3075, 3.1766) [0.5000, 0.8349, 0.2138]\n",
       " PeriodicSite: Ba (3.0494, 12.1768, 11.8329) [0.5000, 0.8260, 0.7965]\n",
       " PeriodicSite: Ba (3.0494, 11.0825, 7.3701) [0.5000, 0.7518, 0.4961]\n",
       " PeriodicSite: Ba (0.0000, 11.0724, 14.8117) [0.0000, 0.7511, 0.9970]\n",
       " PeriodicSite: Ba (0.0000, 9.9718, 4.4331) [0.0000, 0.6764, 0.2984]\n",
       " PeriodicSite: Ba (0.0000, 9.6853, 10.5333) [0.0000, 0.6570, 0.7090]\n",
       " PeriodicSite: Ba (3.0494, 8.7431, 1.2307) [0.5000, 0.5931, 0.0828]\n",
       " PeriodicSite: Ba (3.0494, 7.4449, 8.7138) [0.5000, 0.5050, 0.5865]\n",
       " PeriodicSite: Ba (0.0000, 7.3435, 13.5173) [0.0000, 0.4981, 0.9099]\n",
       " PeriodicSite: Ba (0.0000, 6.2194, 6.3285) [0.0000, 0.4219, 0.4260]\n",
       " PeriodicSite: Ba (3.0494, 4.9367, 11.6794) [0.5000, 0.3349, 0.7862]\n",
       " PeriodicSite: Ba (3.0494, 4.8060, 3.0231) [0.5000, 0.3260, 0.2035]\n",
       " PeriodicSite: Ba (3.0494, 3.7116, 7.4859) [0.5000, 0.2518, 0.5039]\n",
       " PeriodicSite: Ba (0.0000, 3.7015, 0.0443) [0.0000, 0.2511, 0.0030]\n",
       " PeriodicSite: Ba (0.0000, 2.6009, 10.4229) [0.0000, 0.1764, 0.7016]\n",
       " PeriodicSite: Ba (0.0000, 2.3144, 4.3227) [0.0000, 0.1570, 0.2910]\n",
       " PeriodicSite: Ba (3.0494, 1.3723, 13.6253) [0.5000, 0.0931, 0.9172]\n",
       " PeriodicSite: Ba (3.0494, 0.0741, 6.1422) [0.5000, 0.0050, 0.4135]\n",
       " PeriodicSite: Li (3.0494, 12.9528, 0.0868) [0.5000, 0.8787, 0.0058]\n",
       " PeriodicSite: Li (0.0000, 9.2613, 7.5093) [0.0000, 0.6282, 0.5055]\n",
       " PeriodicSite: Li (3.0494, 5.5820, 14.7692) [0.5000, 0.3787, 0.9942]\n",
       " PeriodicSite: Li (0.0000, 1.8904, 7.3467) [0.0000, 0.1282, 0.4945]\n",
       " PeriodicSite: Bi (0.0000, 14.2181, 12.6118) [0.0000, 0.9645, 0.8489]\n",
       " PeriodicSite: Bi (0.0000, 13.4772, 4.7125) [0.0000, 0.9142, 0.3172]\n",
       " PeriodicSite: Bi (3.0494, 8.6780, 12.1440) [0.5000, 0.5887, 0.8174]\n",
       " PeriodicSite: Bi (3.0494, 8.0204, 5.1309) [0.5000, 0.5441, 0.3454]\n",
       " PeriodicSite: Bi (0.0000, 6.8473, 2.2442) [0.0000, 0.4645, 0.1511]\n",
       " PeriodicSite: Bi (0.0000, 6.1064, 10.1435) [0.0000, 0.4142, 0.6828]\n",
       " PeriodicSite: Bi (3.0494, 1.3072, 2.7120) [0.5000, 0.0887, 0.1826]\n",
       " PeriodicSite: Bi (3.0494, 0.6495, 9.7251) [0.5000, 0.0441, 0.6546]\n",
       " PeriodicSite: O (4.6310, 14.3971, 11.0373) [0.7593, 0.9766, 0.7429]\n",
       " PeriodicSite: O (1.4677, 14.3971, 11.0373) [0.2407, 0.9766, 0.7429]\n",
       " PeriodicSite: O (4.5715, 14.7407, 3.6908) [0.7496, 0.9999, 0.2484]\n",
       " PeriodicSite: O (1.5272, 14.7407, 3.6908) [0.2504, 0.9999, 0.2484]\n",
       " PeriodicSite: O (3.0494, 14.6320, 1.1479) [0.5000, 0.9926, 0.0773]\n",
       " PeriodicSite: O (3.0494, 13.5039, 8.7070) [0.5000, 0.9160, 0.5861]\n",
       " PeriodicSite: O (1.4481, 13.1986, 13.7691) [0.2374, 0.8953, 0.9268]\n",
       " PeriodicSite: O (4.6507, 13.1986, 13.7691) [0.7626, 0.8953, 0.9268]\n",
       " PeriodicSite: O (4.5435, 12.3821, 5.5798) [0.7450, 0.8399, 0.3756]\n",
       " PeriodicSite: O (1.5553, 12.3821, 5.5798) [0.2550, 0.8399, 0.3756]\n",
       " PeriodicSite: O (0.0000, 12.2986, 2.8986) [0.0000, 0.8343, 0.1951]\n",
       " PeriodicSite: O (3.0494, 11.2088, 0.8692) [0.5000, 0.7603, 0.0585]\n",
       " PeriodicSite: O (0.0000, 11.0064, 8.4216) [0.0000, 0.7466, 0.5669]\n",
       " PeriodicSite: O (3.0494, 9.6586, 3.8039) [0.5000, 0.6552, 0.2561]\n",
       " PeriodicSite: O (3.0494, 9.8228, 10.3136) [0.5000, 0.6663, 0.6942]\n",
       " PeriodicSite: O (1.4571, 9.8146, 12.9167) [0.2389, 0.6658, 0.8695]\n",
       " PeriodicSite: O (4.6417, 9.8146, 12.9167) [0.7611, 0.6658, 0.8695]\n",
       " PeriodicSite: O (4.5362, 8.8346, 6.3894) [0.7438, 0.5993, 0.4301]\n",
       " PeriodicSite: O (1.5626, 8.8346, 6.3894) [0.2562, 0.5993, 0.4301]\n",
       " PeriodicSite: O (0.0000, 8.7216, 1.3294) [0.0000, 0.5916, 0.0895]\n",
       " PeriodicSite: O (0.0000, 7.6138, 8.6737) [0.0000, 0.5165, 0.5839]\n",
       " PeriodicSite: O (4.6310, 7.0262, 3.8187) [0.7593, 0.4766, 0.2571]\n",
       " PeriodicSite: O (1.4677, 7.0262, 3.8187) [0.2407, 0.4766, 0.2571]\n",
       " PeriodicSite: O (4.5715, 7.3699, 11.1652) [0.7496, 0.4999, 0.7516]\n",
       " PeriodicSite: O (1.5272, 7.3699, 11.1652) [0.2504, 0.4999, 0.7516]\n",
       " PeriodicSite: O (3.0494, 7.2612, 13.7081) [0.5000, 0.4926, 0.9227]\n",
       " PeriodicSite: O (3.0494, 6.1331, 6.1490) [0.5000, 0.4160, 0.4139]\n",
       " PeriodicSite: O (1.4481, 5.8278, 1.0868) [0.2374, 0.3953, 0.0732]\n",
       " PeriodicSite: O (4.6507, 5.8278, 1.0868) [0.7626, 0.3953, 0.0732]\n",
       " PeriodicSite: O (4.5435, 5.0112, 9.2762) [0.7450, 0.3399, 0.6244]\n",
       " PeriodicSite: O (1.5553, 5.0112, 9.2762) [0.2550, 0.3399, 0.6244]\n",
       " PeriodicSite: O (0.0000, 4.9278, 11.9574) [0.0000, 0.3343, 0.8049]\n",
       " PeriodicSite: O (3.0494, 3.8379, 13.9868) [0.5000, 0.2603, 0.9415]\n",
       " PeriodicSite: O (0.0000, 3.6356, 6.4344) [0.0000, 0.2466, 0.4331]\n",
       " PeriodicSite: O (3.0494, 2.2878, 11.0521) [0.5000, 0.1552, 0.7439]\n",
       " PeriodicSite: O (3.0494, 2.4519, 4.5424) [0.5000, 0.1663, 0.3058]\n",
       " PeriodicSite: O (1.4571, 2.4438, 1.9393) [0.2389, 0.1658, 0.1305]\n",
       " PeriodicSite: O (4.6417, 2.4438, 1.9393) [0.7611, 0.1658, 0.1305]\n",
       " PeriodicSite: O (4.5362, 1.4637, 8.4666) [0.7438, 0.0993, 0.5699]\n",
       " PeriodicSite: O (1.5626, 1.4637, 8.4666) [0.2562, 0.0993, 0.5699]\n",
       " PeriodicSite: O (0.0000, 1.3508, 13.5266) [0.0000, 0.0916, 0.9105]\n",
       " PeriodicSite: O (0.0000, 0.2429, 6.1823) [0.0000, 0.0165, 0.4161],\n",
       " 'pretty_formula': 'Ba10Li2Bi4O21'}"
      ]
     },
     "execution_count": 52,
     "metadata": {},
     "output_type": "execute_result"
    }
   ],
   "source": [
    "out_temp[15377]"
   ]
  },
  {
   "cell_type": "code",
   "execution_count": 32,
   "id": "e1ded0bf",
   "metadata": {},
   "outputs": [],
   "source": [
    "write_cif=CifWriter(out_temp[15377]['final_structure'])\n",
    "write_cif.write_file('Li/'+str(out_temp[15377]['pretty_formula'])+'.cif')"
   ]
  },
  {
   "cell_type": "code",
   "execution_count": 24,
   "id": "46fc949c",
   "metadata": {},
   "outputs": [
    {
     "data": {
      "text/plain": [
       "<pymatgen.io.cif.CifWriter at 0x2339a35feb0>"
      ]
     },
     "execution_count": 24,
     "metadata": {},
     "output_type": "execute_result"
    }
   ],
   "source": [
    "write_cif"
   ]
  },
  {
   "cell_type": "code",
   "execution_count": null,
   "id": "59e6a980",
   "metadata": {},
   "outputs": [],
   "source": [
    "import os\n",
    "print(f\"Before Renaming: {os.listdir()}\")\n",
    "os.rename('geeks.txt', 'PythonGeeks.txt')\n",
    "print(f\"After Renaming: {os.listdir()}\")"
   ]
  },
  {
   "cell_type": "code",
   "execution_count": 60,
   "id": "54842a8f",
   "metadata": {},
   "outputs": [],
   "source": [
    "import pandas as pd\n",
    "os.chdir('C:/Users/moham/Downloads/sams/Li3')"
   ]
  },
  {
   "cell_type": "code",
   "execution_count": 61,
   "id": "18d82bcf",
   "metadata": {},
   "outputs": [],
   "source": [
    "a = pd.read_csv(\"targt.csv\")"
   ]
  },
  {
   "cell_type": "code",
   "execution_count": 62,
   "id": "8a0e838e",
   "metadata": {},
   "outputs": [
    {
     "data": {
      "text/plain": [
       "0"
      ]
     },
     "execution_count": 62,
     "metadata": {},
     "output_type": "execute_result"
    }
   ],
   "source": [
    "a[\"id\"][0]"
   ]
  },
  {
   "cell_type": "code",
   "execution_count": 63,
   "id": "b90e8fea",
   "metadata": {},
   "outputs": [],
   "source": [
    "for i in range(len(a['id'])):\n",
    "    os.rename(str(i)+\".cif\", str(a[\"tgt\"][i])+\"_\"+str(i)+\".cif\")"
   ]
  },
  {
   "cell_type": "code",
   "execution_count": null,
   "id": "5ff9ee06",
   "metadata": {},
   "outputs": [],
   "source": []
  }
 ],
 "metadata": {
  "kernelspec": {
   "display_name": "Python 3 (ipykernel)",
   "language": "python",
   "name": "python3"
  },
  "language_info": {
   "codemirror_mode": {
    "name": "ipython",
    "version": 3
   },
   "file_extension": ".py",
   "mimetype": "text/x-python",
   "name": "python",
   "nbconvert_exporter": "python",
   "pygments_lexer": "ipython3",
   "version": "3.9.12"
  }
 },
 "nbformat": 4,
 "nbformat_minor": 5
}
